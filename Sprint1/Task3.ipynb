{
 "cells": [
  {
   "cell_type": "markdown",
   "metadata": {},
   "source": [
    "<h1 style=\"color:DodgerBlue\">Индивидальный проект</h1>"
   ]
  },
  {
   "cell_type": "markdown",
   "metadata": {},
   "source": [
    "<h2 style=\"color:DodgerBlue\">Название проекта:</h2>\n",
    "\n",
    "----\n",
    "\n",
    "### Вариант задания №21\n"
   ]
  },
  {
   "cell_type": "markdown",
   "metadata": {},
   "source": [
    "<h2 style=\"color:DodgerBlue\">Описание проекта:</h2>\n",
    "\n",
    "----\n",
    "\n",
    "Создать базовый класс Ticket в C#, который будет представлять билеты на\n",
    "различные мероприятия. На основе этого класса разработать 2-3 производных\n",
    "класса, демонстрирующих принципы наследования и полиморфизма. В каждом из\n",
    "классов должны быть реализованы новые атрибуты и методы, а также\n",
    "переопределены некоторые методы базового класса для демонстрации\n",
    "полиморфизма.\n",
    "\n",
    "#### Дополнительное задание\n",
    "Добавьте к сущестующим классам конструктора классов с использованием гетторов и сетторов и реализуйте взаимодействие объектов между собой"
   ]
  },
  {
   "cell_type": "markdown",
   "metadata": {},
   "source": [
    "<h2 style=\"color:DodgerBlue\">Реализация:</h2>\n",
    "\n",
    "----"
   ]
  },
  {
   "cell_type": "code",
   "execution_count": 1,
   "metadata": {
    "dotnet_interactive": {
     "language": "csharp"
    },
    "polyglot_notebook": {
     "kernelName": "csharp"
    }
   },
   "outputs": [
    {
     "name": "stdout",
     "output_type": "stream",
     "text": [
      "Билет 1: ряд 10, место 5\n",
      "Исполнитель: Ария\n",
      "Билет 2: ряд 15, место 3\n",
      "Билет 3: ряд 20, место 7\n",
      "Место забронировано.\n",
      "Место забронировано.\n",
      "Место забронировано.\n",
      "Для конференции 'Форум программистов'\n",
      "ID: 1, Ряд: 10, Место: 5\n",
      "ID: 2, Ряд: 15, Место: 3 Спектакль: Ромео и Джульетта\n",
      "ID: 3, Ряд: 20, Место: 7\n"
     ]
    }
   ],
   "source": [
    "public class Ticket\n",
    "{\n",
    "    public int TicketId { get; set; }\n",
    "    public int RowNumber { get; set; }\n",
    "    public int SeatNumber { get; set; }\n",
    "\n",
    "    public virtual void PrintTicketInfo()\n",
    "    {\n",
    "        Console.WriteLine($\"Билет {TicketId}: ряд {RowNumber}, место {SeatNumber}\");\n",
    "    }\n",
    "\n",
    "    public virtual void ReserveSeat()\n",
    "    {\n",
    "        Console.WriteLine(\"Место забронировано.\");\n",
    "    }\n",
    "\n",
    "    public virtual string GetTicketDetails()\n",
    "    {\n",
    "        return $\"ID: {TicketId}, Ряд: {RowNumber}, Место: {SeatNumber}\";\n",
    "    }\n",
    "    //Конструктор\n",
    "    public Ticket(int ticketId, int rowNumber, int seatNumber)\n",
    "    {\n",
    "        TicketId = ticketId;\n",
    "        RowNumber = rowNumber;\n",
    "        SeatNumber = seatNumber; \n",
    "    }\n",
    "\n",
    "}\n",
    "\n",
    "public class ConcertTicket : Ticket\n",
    "{\n",
    "    public string ArtistName { get; set; }\n",
    "\n",
    "    public override void PrintTicketInfo()\n",
    "    {\n",
    "        base.PrintTicketInfo();\n",
    "        Console.WriteLine($\"Исполнитель: {ArtistName}\");\n",
    "    }\n",
    "    //Конструктор\n",
    "    public ConcertTicket(int ticketId, int rowNumber, int seatNumber, string artistName)\n",
    "        : base(ticketId, rowNumber, seatNumber)\n",
    "    {\n",
    "        ArtistName = artistName;\n",
    "        \n",
    "    }\n",
    "}\n",
    "\n",
    "public class PlayTicket : Ticket\n",
    "{\n",
    "    public string PlayTitle { get; set; }\n",
    "\n",
    "    public override string GetTicketDetails()\n",
    "    {\n",
    "        var details = base.GetTicketDetails();\n",
    "        return $\"{details} Спектакль: {PlayTitle}\";\n",
    "    }\n",
    "    //Конструктор\n",
    "    public PlayTicket(int ticketId, int rowNumber, int seatNumber, string playTitle)\n",
    "        : base(ticketId, rowNumber, seatNumber)\n",
    "    {\n",
    "        PlayTitle = playTitle;\n",
    "    }\n",
    "}\n",
    "\n",
    "public class ConferenceTicket : Ticket\n",
    "{\n",
    "    public string ConferenceName { get; set; }\n",
    "    \n",
    "    public override void ReserveSeat()\n",
    "    {\n",
    "        base.ReserveSeat();\n",
    "        Console.WriteLine($\"Для конференции '{ConferenceName}'\");\n",
    "    }\n",
    "    //Конструктор\n",
    "    public ConferenceTicket(int ticketId, int rowNumber, int seatNumber, string conferenceName)\n",
    "        : base(ticketId, rowNumber, seatNumber)\n",
    "    {\n",
    "        ConferenceName = conferenceName;\n",
    "    }\n",
    "}\n",
    "\n",
    "\n",
    "//Создание билетов\n",
    "var concertTicket = new ConcertTicket(1, 10, 5, \"Ария\");\n",
    "var playTicket = new PlayTicket(2, 15, 3, \"Ромео и Джульетта\");\n",
    "var conferenceTicket = new ConferenceTicket(3, 20, 7, \"Форум программистов\");\n",
    "\n",
    "//Вывод информации о билетах\n",
    "concertTicket.PrintTicketInfo();\n",
    "playTicket.PrintTicketInfo();\n",
    "conferenceTicket.PrintTicketInfo();\n",
    "\n",
    "//Бронирование мест\n",
    "concertTicket.ReserveSeat();\n",
    "playTicket.ReserveSeat();\n",
    "conferenceTicket.ReserveSeat();\n",
    "\n",
    "//Получение деталей билета\n",
    "Console.WriteLine(concertTicket.GetTicketDetails());\n",
    "Console.WriteLine(playTicket.GetTicketDetails());\n",
    "Console.WriteLine(conferenceTicket.GetTicketDetails());\n",
    "\n",
    "// Проверка взаимодействия между объектами\n",
    "if (concertTicket.TicketId == playTicket.TicketId)\n",
    "{\n",
    "    Console.WriteLine(\"Эти билеты имеют одинаковое ID\");\n",
    "}\n"
   ]
  }
 ],
 "metadata": {
  "kernelspec": {
   "display_name": ".NET (C#)",
   "language": "C#",
   "name": ".net-csharp"
  },
  "polyglot_notebook": {
   "kernelInfo": {
    "defaultKernelName": "csharp",
    "items": [
     {
      "aliases": [],
      "languageName": "csharp",
      "name": "csharp"
     }
    ]
   }
  }
 },
 "nbformat": 4,
 "nbformat_minor": 2
}
