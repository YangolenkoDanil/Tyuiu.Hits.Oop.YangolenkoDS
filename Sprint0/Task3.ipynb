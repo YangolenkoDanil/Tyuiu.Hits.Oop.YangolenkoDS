{
 "cells": [
  {
   "cell_type": "markdown",
   "metadata": {},
   "source": [
    "<h1 style=\"color:DodgerBlue\">Индивидальный проект</h1>"
   ]
  },
  {
   "cell_type": "markdown",
   "metadata": {},
   "source": [
    "<h2 style=\"color:DodgerBlue\">Название проекта:</h2>\n",
    "\n",
    "----\n",
    "\n",
    "### Вариант задания №21\n"
   ]
  },
  {
   "cell_type": "markdown",
   "metadata": {},
   "source": [
    "<h2 style=\"color:DodgerBlue\">Описание проекта:</h2>\n",
    "\n",
    "----\n",
    "\n",
    "Создать базовый класс Ticket в C#, который будет представлять билеты на\n",
    "различные мероприятия. На основе этого класса разработать 2-3 производных\n",
    "класса, демонстрирующих принципы наследования и полиморфизма. В каждом из\n",
    "классов должны быть реализованы новые атрибуты и методы, а также\n",
    "переопределены некоторые методы базового класса для демонстрации\n",
    "полиморфизма.\n"
   ]
  },
  {
   "cell_type": "markdown",
   "metadata": {},
   "source": [
    "<h2 style=\"color:DodgerBlue\">Реализация:</h2>\n",
    "\n",
    "----"
   ]
  },
  {
   "cell_type": "code",
   "execution_count": 2,
   "metadata": {
    "dotnet_interactive": {
     "language": "csharp"
    },
    "polyglot_notebook": {
     "kernelName": "csharp"
    }
   },
   "outputs": [
    {
     "name": "stdout",
     "output_type": "stream",
     "text": [
      "Информация о билете на концерт:\n",
      "Билет 1001: ряд 5, место 10\n",
      "Исполнитель: The Rolling Stones\n",
      "\n",
      "Детали билета на спектакль:\n",
      "ID: 1002, Ряд: 3, Место: 15 Спектакль: Hamlet\n",
      "\n",
      "Бронирование места для конференции:\n",
      "Место забронировано.\n",
      "Для конференции 'DevConf'\n"
     ]
    }
   ],
   "source": [
    "public class Ticket\n",
    "{\n",
    "    public int TicketId { get; set; }\n",
    "    public int RowNumber { get; set; }\n",
    "    public int SeatNumber { get; set; }\n",
    "\n",
    "    public virtual void PrintTicketInfo()\n",
    "    {\n",
    "        Console.WriteLine($\"Билет {TicketId}: ряд {RowNumber}, место {SeatNumber}\");\n",
    "    }\n",
    "\n",
    "    public virtual void ReserveSeat()\n",
    "    {\n",
    "        Console.WriteLine(\"Место забронировано.\");\n",
    "    }\n",
    "\n",
    "    public virtual string GetTicketDetails()\n",
    "    {\n",
    "        return $\"ID: {TicketId}, Ряд: {RowNumber}, Место: {SeatNumber}\";\n",
    "    }\n",
    "}\n",
    "\n",
    "public class ConcertTicket : Ticket\n",
    "{\n",
    "    public string ArtistName { get; set; }\n",
    "\n",
    "    public override void PrintTicketInfo()\n",
    "    {\n",
    "        base.PrintTicketInfo();\n",
    "        Console.WriteLine($\"Исполнитель: {ArtistName}\");\n",
    "    }\n",
    "}\n",
    "\n",
    "public class PlayTicket : Ticket\n",
    "{\n",
    "    public string PlayTitle { get; set; }\n",
    "\n",
    "    public override string GetTicketDetails()\n",
    "    {\n",
    "        var details = base.GetTicketDetails();\n",
    "        return $\"{details} Спектакль: {PlayTitle}\";\n",
    "    }\n",
    "}\n",
    "\n",
    "public class ConferenceTicket : Ticket\n",
    "{\n",
    "    public string ConferenceName { get; set; }\n",
    "\n",
    "    public override void ReserveSeat()\n",
    "    {\n",
    "        base.ReserveSeat();\n",
    "        Console.WriteLine($\"Для конференции '{ConferenceName}'\");\n",
    "    }\n",
    "}\n",
    "\n",
    "\n",
    "\n",
    "var concertTicket = new ConcertTicket\n",
    "{\n",
    "    TicketId = 1001,\n",
    "    RowNumber = 5,\n",
    "    SeatNumber = 10,\n",
    "    ArtistName = \"The Rolling Stones\"\n",
    "};\n",
    "\n",
    "var playTicket = new PlayTicket\n",
    "{\n",
    "    TicketId = 1002,\n",
    "    RowNumber = 3,\n",
    "    SeatNumber = 15,\n",
    "    PlayTitle = \"Hamlet\"\n",
    "};\n",
    "\n",
    "var conferenceTicket = new ConferenceTicket\n",
    "{\n",
    "    TicketId = 1003,\n",
    "    RowNumber = 2,\n",
    "    SeatNumber = 20,\n",
    "    ConferenceName = \"DevConf\"\n",
    "};\n",
    "\n",
    "Console.WriteLine(\"Информация о билете на концерт:\");\n",
    "concertTicket.PrintTicketInfo();\n",
    "\n",
    "Console.WriteLine(\"\\nДетали билета на спектакль:\");\n",
    "Console.WriteLine(playTicket.GetTicketDetails());\n",
    "\n",
    "Console.WriteLine(\"\\nБронирование места для конференции:\");\n",
    "conferenceTicket.ReserveSeat();"
   ]
  }
 ],
 "metadata": {
  "kernelspec": {
   "display_name": ".NET (C#)",
   "language": "C#",
   "name": ".net-csharp"
  },
  "polyglot_notebook": {
   "kernelInfo": {
    "defaultKernelName": "csharp",
    "items": [
     {
      "aliases": [],
      "languageName": "csharp",
      "name": "csharp"
     }
    ]
   }
  }
 },
 "nbformat": 4,
 "nbformat_minor": 2
}
